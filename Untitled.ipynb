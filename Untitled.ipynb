{
 "cells": [
  {
   "cell_type": "code",
   "execution_count": 3,
   "id": "c3c2ac83",
   "metadata": {},
   "outputs": [
    {
     "name": "stdout",
     "output_type": "stream",
     "text": [
      ".\\.git\\objects\\7b\\414a800136a7303817900d083894459bc69aec — 265.51 MB\n"
     ]
    }
   ],
   "source": [
    "import os\n",
    "\n",
    "root_folder = \".\"  # Replace with your path\n",
    "threshold_mb = 50\n",
    "for dirpath, _, filenames in os.walk(root_folder):\n",
    "    for filename in filenames:\n",
    "        file_path = os.path.join(dirpath, filename)\n",
    "        try:\n",
    "            size_bytes = os.path.getsize(file_path)\n",
    "            size_mb = size_bytes / (1024 * 1024)\n",
    "            if size_mb > threshold_mb:\n",
    "                print(f\"{file_path} — {size_mb:.2f} MB\")\n",
    "        except Exception as e:\n",
    "            print(f\"Error reading {file_path}: {e}\")"
   ]
  },
  {
   "cell_type": "code",
   "execution_count": null,
   "id": "d80f92ae",
   "metadata": {},
   "outputs": [],
   "source": []
  }
 ],
 "metadata": {
  "kernelspec": {
   "display_name": "Python 3 (ipykernel)",
   "language": "python",
   "name": "python3"
  },
  "language_info": {
   "codemirror_mode": {
    "name": "ipython",
    "version": 3
   },
   "file_extension": ".py",
   "mimetype": "text/x-python",
   "name": "python",
   "nbconvert_exporter": "python",
   "pygments_lexer": "ipython3",
   "version": "3.10.9"
  }
 },
 "nbformat": 4,
 "nbformat_minor": 5
}
