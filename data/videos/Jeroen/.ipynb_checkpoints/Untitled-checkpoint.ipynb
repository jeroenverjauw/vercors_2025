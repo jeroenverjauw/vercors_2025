{
 "cells": [
  {
   "cell_type": "code",
   "execution_count": 3,
   "id": "1fca49ea",
   "metadata": {},
   "outputs": [
    {
     "data": {
      "text/plain": [
       "CompletedProcess(args=['ffmpeg', '-i', 'IMG_4138.MOV', '-vcodec', 'libx264', '-crf', '28', '-preset', 'slow', '-acodec', 'aac', '-b:a', '128k', 'compressed.MOV'], returncode=0)"
      ]
     },
     "execution_count": 3,
     "metadata": {},
     "output_type": "execute_result"
    }
   ],
   "source": [
    "import subprocess\n",
    "\n",
    "input_path = \"IMG_4138.MOV\"\n",
    "output_path = \"compressed.MOV\"\n",
    "\n",
    "# FFmpeg compression command\n",
    "command = [\n",
    "    \"ffmpeg\",\n",
    "    \"-i\", input_path,\n",
    "    \"-vcodec\", \"libx264\",        # Use H.264 video codec\n",
    "    \"-crf\", \"28\",                # Constant Rate Factor (lower = better quality)\n",
    "    \"-preset\", \"slow\",           # Compression speed (slow = better compression)\n",
    "    \"-acodec\", \"aac\",            # Use AAC for audio\n",
    "    \"-b:a\", \"128k\",              # Audio bitrate\n",
    "    output_path\n",
    "]\n",
    "\n",
    "# Run the command\n",
    "subprocess.run(command)"
   ]
  },
  {
   "cell_type": "code",
   "execution_count": 4,
   "id": "f32f6f20",
   "metadata": {},
   "outputs": [
    {
     "name": "stdout",
     "output_type": "stream",
     "text": [
      "CompletedProcess(args='ffmpeg -i IMG_4138.mov -b:v 900k output_video.mp4', returncode=0)\n"
     ]
    }
   ],
   "source": [
    "import subprocess\n",
    "# FFmpeg command to compress the video\n",
    "command = 'ffmpeg -i IMG_4138.mov -b:v 900k output_video.mp4'\n",
    "command 'ffmpeg -i IMG_4138.mov -q:v 0 output.mp4'\n",
    "# Run the command using subprocess\n",
    "process = subprocess.run(command, shell=True)\n",
    "# Print the result to verify success\n",
    "print(process)"
   ]
  },
  {
   "cell_type": "code",
   "execution_count": null,
   "id": "dcf77c36",
   "metadata": {},
   "outputs": [],
   "source": []
  }
 ],
 "metadata": {
  "kernelspec": {
   "display_name": "Python 3 (ipykernel)",
   "language": "python",
   "name": "python3"
  },
  "language_info": {
   "codemirror_mode": {
    "name": "ipython",
    "version": 3
   },
   "file_extension": ".py",
   "mimetype": "text/x-python",
   "name": "python",
   "nbconvert_exporter": "python",
   "pygments_lexer": "ipython3",
   "version": "3.10.9"
  }
 },
 "nbformat": 4,
 "nbformat_minor": 5
}
