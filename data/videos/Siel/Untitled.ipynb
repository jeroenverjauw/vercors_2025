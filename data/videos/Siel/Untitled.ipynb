{
 "cells": [
  {
   "cell_type": "code",
   "execution_count": 13,
   "id": "46106bac",
   "metadata": {},
   "outputs": [
    {
     "name": "stdout",
     "output_type": "stream",
     "text": [
      "CompletedProcess(args='ffmpeg -i HPIM1957.AVI -b:v 900k compressed_images/HPIM1957.mp4', returncode=0)\n",
      "CompletedProcess(args='ffmpeg -i HPIM2084.AVI -b:v 900k compressed_images/HPIM2084.mp4', returncode=0)\n",
      "CompletedProcess(args='ffmpeg -i HPIM2124.AVI -b:v 900k compressed_images/HPIM2124.mp4', returncode=0)\n",
      "CompletedProcess(args='ffmpeg -i HPIM2158.AVI -b:v 900k compressed_images/HPIM2158.mp4', returncode=0)\n",
      "CompletedProcess(args='ffmpeg -i HPIM2220.AVI -b:v 900k compressed_images/HPIM2220.mp4', returncode=0)\n",
      "CompletedProcess(args='ffmpeg -i HPIM2221.AVI -b:v 900k compressed_images/HPIM2221.mp4', returncode=0)\n",
      "CompletedProcess(args='ffmpeg -i HPIM2251.AVI -b:v 900k compressed_images/HPIM2251.mp4', returncode=0)\n",
      "CompletedProcess(args='ffmpeg -i HPIM2289.AVI -b:v 900k compressed_images/HPIM2289.mp4', returncode=0)\n",
      "CompletedProcess(args='ffmpeg -i HPIM2290.AVI -b:v 900k compressed_images/HPIM2290.mp4', returncode=0)\n",
      "CompletedProcess(args='ffmpeg -i HPIM2291.AVI -b:v 900k compressed_images/HPIM2291.mp4', returncode=0)\n"
     ]
    }
   ],
   "source": [
    "import subprocess\n",
    "import os\n",
    "\n",
    "input_folder = \".\"\n",
    "output_folder = \"compressed_images\"\n",
    "os.makedirs(output_folder, exist_ok=True)\n",
    "\n",
    "for filename in os.listdir(input_folder):\n",
    "    if filename.lower().endswith(\".avi\"):\n",
    "        input_path = os.path.join(input_folder, filename)\n",
    "        output_path = os.path.join(output_folder, filename)\n",
    "        \n",
    "        command = f\"ffmpeg -i {filename} -b:v 900k {output_folder}/{filename.split('.')[0]}.mp4\"        \n",
    "        process = subprocess.run(command, shell=True)\n",
    "        print(process)\n",
    "\n",
    "# \n",
    "# process = subprocess.run(command, shell=True)\n",
    "# # Print the result to verify success\n",
    "# print(process)"
   ]
  },
  {
   "cell_type": "code",
   "execution_count": 11,
   "id": "ba0416d3",
   "metadata": {},
   "outputs": [
    {
     "data": {
      "text/plain": [
       "'HPIM1957'"
      ]
     },
     "execution_count": 11,
     "metadata": {},
     "output_type": "execute_result"
    }
   ],
   "source": []
  },
  {
   "cell_type": "code",
   "execution_count": null,
   "id": "041497c8",
   "metadata": {},
   "outputs": [],
   "source": []
  }
 ],
 "metadata": {
  "kernelspec": {
   "display_name": "Python 3 (ipykernel)",
   "language": "python",
   "name": "python3"
  },
  "language_info": {
   "codemirror_mode": {
    "name": "ipython",
    "version": 3
   },
   "file_extension": ".py",
   "mimetype": "text/x-python",
   "name": "python",
   "nbconvert_exporter": "python",
   "pygments_lexer": "ipython3",
   "version": "3.10.9"
  }
 },
 "nbformat": 4,
 "nbformat_minor": 5
}
