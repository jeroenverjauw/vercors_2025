{
 "cells": [
  {
   "cell_type": "code",
   "execution_count": 5,
   "id": "e6ed34f7",
   "metadata": {},
   "outputs": [
    {
     "name": "stdout",
     "output_type": "stream",
     "text": [
      "ffmpeg -i HPIM1957.AVI -b:v 900k output_video.mp4\n",
      "ffmpeg -i HPIM2084.AVI -b:v 900k output_video.mp4\n",
      "ffmpeg -i HPIM2124.AVI -b:v 900k output_video.mp4\n",
      "ffmpeg -i HPIM2158.AVI -b:v 900k output_video.mp4\n",
      "ffmpeg -i HPIM2220.AVI -b:v 900k output_video.mp4\n",
      "ffmpeg -i HPIM2221.AVI -b:v 900k output_video.mp4\n",
      "ffmpeg -i HPIM2251.AVI -b:v 900k output_video.mp4\n",
      "ffmpeg -i HPIM2289.AVI -b:v 900k output_video.mp4\n",
      "ffmpeg -i HPIM2290.AVI -b:v 900k output_video.mp4\n",
      "ffmpeg -i HPIM2291.AVI -b:v 900k output_video.mp4\n"
     ]
    }
   ],
   "source": [
    "import subprocess\n",
    "import os\n",
    "\n",
    "input_folder = \".\"\n",
    "output_folder = \"compressed_images\"\n",
    "os.makedirs(output_folder, exist_ok=True)\n",
    "\n",
    "for filename in os.listdir(input_folder):\n",
    "    if filename.lower().endswith(\".avi\"):\n",
    "        input_path = os.path.join(input_folder, filename)\n",
    "        output_path = os.path.join(output_folder, filename)\n",
    "        \n",
    "        command = f'ffmpeg -i {filename} -b:v 900k {output_folder}/output_video.mp4'\n",
    "        \n",
    "        print(command)\n",
    "\n",
    "# \n",
    "# process = subprocess.run(command, shell=True)\n",
    "# # Print the result to verify success\n",
    "# print(process)"
   ]
  },
  {
   "cell_type": "code",
   "execution_count": null,
   "id": "44bccd5b",
   "metadata": {},
   "outputs": [],
   "source": []
  }
 ],
 "metadata": {
  "kernelspec": {
   "display_name": "Python 3 (ipykernel)",
   "language": "python",
   "name": "python3"
  },
  "language_info": {
   "codemirror_mode": {
    "name": "ipython",
    "version": 3
   },
   "file_extension": ".py",
   "mimetype": "text/x-python",
   "name": "python",
   "nbconvert_exporter": "python",
   "pygments_lexer": "ipython3",
   "version": "3.10.9"
  }
 },
 "nbformat": 4,
 "nbformat_minor": 5
}
