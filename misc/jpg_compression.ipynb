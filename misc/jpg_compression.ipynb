{
 "cells": [
  {
   "cell_type": "code",
   "execution_count": 1,
   "id": "d056a96e",
   "metadata": {},
   "outputs": [],
   "source": [
    "from PIL import Image\n",
    "\n",
    "input_path = \"HPIM1884.jpg\"\n",
    "output_path = \"compressed.jpg\"\n",
    "\n",
    "# Open and compress the image\n",
    "with Image.open(input_path) as img:\n",
    "    img.save(output_path, \"JPEG\", quality=40)  # Lower quality = more compression"
   ]
  },
  {
   "cell_type": "code",
   "execution_count": 2,
   "id": "1d1b09ea",
   "metadata": {},
   "outputs": [],
   "source": [
    "import os\n",
    "from PIL import Image\n",
    "\n",
    "input_folder = \".\"\n",
    "output_folder = \"compressed_images\"\n",
    "os.makedirs(output_folder, exist_ok=True)\n",
    "\n",
    "for filename in os.listdir(input_folder):\n",
    "    if filename.lower().endswith(\".jpg\") or filename.lower().endswith(\".jpeg\"):\n",
    "        input_path = os.path.join(input_folder, filename)\n",
    "        output_path = os.path.join(output_folder, filename)\n",
    "\n",
    "        with Image.open(input_path) as img:\n",
    "            img.save(output_path, \"JPEG\", quality=40, optimize=True)"
   ]
  },
  {
   "cell_type": "code",
   "execution_count": null,
   "id": "8d3fcb5a",
   "metadata": {},
   "outputs": [],
   "source": []
  }
 ],
 "metadata": {
  "kernelspec": {
   "display_name": "Python 3 (ipykernel)",
   "language": "python",
   "name": "python3"
  },
  "language_info": {
   "codemirror_mode": {
    "name": "ipython",
    "version": 3
   },
   "file_extension": ".py",
   "mimetype": "text/x-python",
   "name": "python",
   "nbconvert_exporter": "python",
   "pygments_lexer": "ipython3",
   "version": "3.10.9"
  }
 },
 "nbformat": 4,
 "nbformat_minor": 5
}
